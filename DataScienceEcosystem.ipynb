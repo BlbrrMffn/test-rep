{
  "cells": [
    {
      "cell_type": "markdown",
      "id": "e3a03ad5-2a0c-4c85-9904-d4468d19aabc",
      "metadata": {},
      "source": [
        "# Data Science Tools and Ecosystem"
      ]
    },
    {
      "cell_type": "markdown",
      "id": "2587ab10-e58d-40d4-b54b-829c9983db9e",
      "metadata": {},
      "source": [
        "In this notebook, Data Science Tools and Ecosystem are summarized."
      ]
    },
    {
      "cell_type": "markdown",
      "id": "5a9c0c87-a2ab-47d7-ba16-196bdecd3bbe",
      "metadata": {},
      "source": [
        "**Objectives:**\n",
        "* List popular languages for Data Science\n",
        "* List popular libraries for Data Science\n",
        "* Show opportunities to use arithmetic expressions directly in the notepad"
      ]
    },
    {
      "cell_type": "markdown",
      "id": "2ef55bde-668a-4064-b0f4-e8d87690a92b",
      "metadata": {},
      "source": [
        "Some of the popular languages that Data Scientists use are:\n",
        "1. Python\n",
        "2. R\n",
        "3. Scala\n",
        "4. Julia"
      ]
    },
    {
      "cell_type": "markdown",
      "id": "e641a23e-a428-44ec-bf99-a53f28483f42",
      "metadata": {},
      "source": [
        "Some of the commonly used libraries used by Data Scientists include:\n",
        "1. Pandas\n",
        "2. NumPy\n",
        "3. Matplotlib"
      ]
    },
    {
      "cell_type": "markdown",
      "id": "3570853c-51ee-489a-9968-f5ef6257c9da",
      "metadata": {},
      "source": [
        "| Data Science Tools |\n",
        "|--------------------|\n",
        "| Visual Studio Code |\n",
        "| PyCharm |\n",
        "| Spider |"
      ]
    },
    {
      "cell_type": "markdown",
      "id": "49324854-c0a3-43f1-af2e-22f80ad939b1",
      "metadata": {},
      "source": [
        "### Below are a few examples of evaluating arithmetic expressions in Python"
      ]
    },
    {
      "cell_type": "code",
      "execution_count": 6,
      "id": "17653bbb-2871-46dc-b50d-c7cfd454ef8d",
      "metadata": {
        "trusted": true
      },
      "outputs": [
        {
          "data": {
            "text/plain": [
              "17"
            ]
          },
          "execution_count": 6,
          "metadata": {},
          "output_type": "execute_result"
        }
      ],
      "source": [
        "(3*4)+5\n",
        "#This a simple arithmetic expression to mutiply then add integers"
      ]
    },
    {
      "cell_type": "code",
      "execution_count": 7,
      "id": "60e03ad3-5788-45e5-b924-613f69f1f781",
      "metadata": {
        "trusted": true
      },
      "outputs": [
        {
          "data": {
            "text/plain": [
              "3.3333333333333335"
            ]
          },
          "execution_count": 7,
          "metadata": {},
          "output_type": "execute_result"
        }
      ],
      "source": [
        "#This will convert 200 minutes to hours by diving by 60\n",
        "200/60"
      ]
    },
    {
      "cell_type": "markdown",
      "id": "de988c32-7019-4371-9784-dc9d3b2bea84",
      "metadata": {},
      "source": [
        "##### or"
      ]
    },
    {
      "cell_type": "code",
      "execution_count": 9,
      "id": "d9cdf880-265b-4ce4-acc0-ba5606008f67",
      "metadata": {
        "trusted": true
      },
      "outputs": [
        {
          "name": "stdout",
          "output_type": "stream",
          "text": [
            "200 minutes in hours is equal to 3.3333333333333335\n"
          ]
        }
      ],
      "source": [
        "#This will convert 200 minutes to hours by diving by 60\n",
        "minutes = 200\n",
        "hour = 60\n",
        "time = minutes / hour\n",
        "print(\"200 minutes in hours is equal to\", time)"
      ]
    },
    {
      "cell_type": "markdown",
      "id": "28a412fb-a091-4423-89d9-0696ea40d6a9",
      "metadata": {},
      "source": [
        "##### or"
      ]
    },
    {
      "cell_type": "code",
      "execution_count": 10,
      "id": "8ce4283c-80c2-410a-9a80-16f8999c15cc",
      "metadata": {
        "trusted": true
      },
      "outputs": [
        {
          "name": "stdout",
          "output_type": "stream",
          "text": [
            "200 minutes in hours is equal to 3.3333333333333335\n"
          ]
        }
      ],
      "source": [
        "#This will convert 200 minutes to hours by diving by 60\n",
        "minutes = 200\n",
        "hour = 60\n",
        "if (minutes > 0):\n",
        "    print(\"200 minutes in hours is equal to\", minutes/hour)"
      ]
    },
    {
      "cell_type": "markdown",
      "id": "00c7f95f-4898-49d8-9af6-b0bd89c11972",
      "metadata": {},
      "source": [
        "## Author Olya D."
      ]
    }
  ],
  "metadata": {
    "kernelspec": {
      "display_name": "Python (Pyodide)",
      "language": "python",
      "name": "python"
    },
    "language_info": {
      "codemirror_mode": {
        "name": "python",
        "version": 3
      },
      "file_extension": ".py",
      "mimetype": "text/x-python",
      "name": "python",
      "nbconvert_exporter": "python",
      "pygments_lexer": "ipython3",
      "version": "3.8"
    }
  },
  "nbformat": 4,
  "nbformat_minor": 5
}
